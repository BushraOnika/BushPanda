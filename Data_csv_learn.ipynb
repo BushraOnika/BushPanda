{
 "cells": [
  {
   "cell_type": "code",
   "id": "initial_id",
   "metadata": {
    "collapsed": true,
    "ExecuteTime": {
     "end_time": "2025-02-11T17:31:18.477637Z",
     "start_time": "2025-02-11T17:31:18.468225Z"
    }
   },
   "source": [
    "from unittest.mock import inplace\n",
    "\n",
    "import polars as pl"
   ],
   "outputs": [],
   "execution_count": 16
  },
  {
   "metadata": {
    "ExecuteTime": {
     "end_time": "2025-02-11T17:31:18.541626Z",
     "start_time": "2025-02-11T17:31:18.514869Z"
    }
   },
   "cell_type": "code",
   "source": "animal_df= pl.scan_csv(\"https://raw.githubusercontent.com/jeroenjanssens/python-polars-the-definitive-guide/refs/heads/main/data/animals.csv\")",
   "id": "87fcd94642771d2b",
   "outputs": [],
   "execution_count": 17
  },
  {
   "metadata": {
    "ExecuteTime": {
     "end_time": "2025-02-11T17:31:48.872528Z",
     "start_time": "2025-02-11T17:31:48.851155Z"
    }
   },
   "cell_type": "code",
   "source": "animal_df",
   "id": "69244e363913e1c2",
   "outputs": [
    {
     "data": {
      "text/plain": [
       "<LazyFrame at 0x173DA8BD990>"
      ],
      "text/html": [
       "<i>naive plan: (run <b>LazyFrame.explain(optimized=True)</b> to see the optimized plan)</i>\n",
       "    <p></p>\n",
       "    <div>Csv SCAN [https://raw.githubusercontent.com/jeroenjanssens/python-polars-the-definitive-guide/refs/heads/main/data/animals.csv]<p></p>PROJECT */8 COLUMNS</div>"
      ]
     },
     "execution_count": 20,
     "metadata": {},
     "output_type": "execute_result"
    }
   ],
   "execution_count": 20
  },
  {
   "metadata": {
    "ExecuteTime": {
     "end_time": "2025-02-11T17:31:19.758590Z",
     "start_time": "2025-02-11T17:31:19.353507Z"
    }
   },
   "cell_type": "code",
   "source": "animal_df.shape",
   "id": "ec5b65867daf8d35",
   "outputs": [
    {
     "ename": "AttributeError",
     "evalue": "'LazyFrame' object has no attribute 'shape'",
     "output_type": "error",
     "traceback": [
      "\u001B[1;31m---------------------------------------------------------------------------\u001B[0m",
      "\u001B[1;31mAttributeError\u001B[0m                            Traceback (most recent call last)",
      "Cell \u001B[1;32mIn[19], line 1\u001B[0m\n\u001B[1;32m----> 1\u001B[0m \u001B[43manimal_df\u001B[49m\u001B[38;5;241;43m.\u001B[39;49m\u001B[43mshape\u001B[49m\n",
      "\u001B[1;31mAttributeError\u001B[0m: 'LazyFrame' object has no attribute 'shape'"
     ]
    }
   ],
   "execution_count": 19
  },
  {
   "metadata": {
    "ExecuteTime": {
     "end_time": "2025-02-11T17:31:19.772684700Z",
     "start_time": "2025-02-11T17:30:56.461636Z"
    }
   },
   "cell_type": "code",
   "source": "len(animal_df.columns)",
   "id": "4fccfaaf4b7fbaf0",
   "outputs": [
    {
     "data": {
      "text/plain": [
       "8"
      ]
     },
     "execution_count": 5,
     "metadata": {},
     "output_type": "execute_result"
    }
   ],
   "execution_count": 5
  },
  {
   "metadata": {
    "ExecuteTime": {
     "end_time": "2025-02-11T17:31:19.784615200Z",
     "start_time": "2025-02-11T17:30:56.667001Z"
    }
   },
   "cell_type": "code",
   "source": "import altair",
   "id": "c2ed7a55e61ffe96",
   "outputs": [],
   "execution_count": 6
  },
  {
   "metadata": {
    "ExecuteTime": {
     "end_time": "2025-02-11T17:31:19.785624900Z",
     "start_time": "2025-02-11T17:30:57.081572Z"
    }
   },
   "cell_type": "code",
   "source": "animal_df.plot.bar(x='animal',y='lifespan')",
   "id": "acaca7600edd98b0",
   "outputs": [
    {
     "data": {
      "text/html": [
       "\n",
       "<style>\n",
       "  #altair-viz-dd43d794869f464cad332a962a9f967f.vega-embed {\n",
       "    width: 100%;\n",
       "    display: flex;\n",
       "  }\n",
       "\n",
       "  #altair-viz-dd43d794869f464cad332a962a9f967f.vega-embed details,\n",
       "  #altair-viz-dd43d794869f464cad332a962a9f967f.vega-embed details summary {\n",
       "    position: relative;\n",
       "  }\n",
       "</style>\n",
       "<div id=\"altair-viz-dd43d794869f464cad332a962a9f967f\"></div>\n",
       "<script type=\"text/javascript\">\n",
       "  var VEGA_DEBUG = (typeof VEGA_DEBUG == \"undefined\") ? {} : VEGA_DEBUG;\n",
       "  (function(spec, embedOpt){\n",
       "    let outputDiv = document.currentScript.previousElementSibling;\n",
       "    if (outputDiv.id !== \"altair-viz-dd43d794869f464cad332a962a9f967f\") {\n",
       "      outputDiv = document.getElementById(\"altair-viz-dd43d794869f464cad332a962a9f967f\");\n",
       "    }\n",
       "\n",
       "    const paths = {\n",
       "      \"vega\": \"https://cdn.jsdelivr.net/npm/vega@5?noext\",\n",
       "      \"vega-lib\": \"https://cdn.jsdelivr.net/npm/vega-lib?noext\",\n",
       "      \"vega-lite\": \"https://cdn.jsdelivr.net/npm/vega-lite@5.20.1?noext\",\n",
       "      \"vega-embed\": \"https://cdn.jsdelivr.net/npm/vega-embed@6?noext\",\n",
       "    };\n",
       "\n",
       "    function maybeLoadScript(lib, version) {\n",
       "      var key = `${lib.replace(\"-\", \"\")}_version`;\n",
       "      return (VEGA_DEBUG[key] == version) ?\n",
       "        Promise.resolve(paths[lib]) :\n",
       "        new Promise(function(resolve, reject) {\n",
       "          var s = document.createElement('script');\n",
       "          document.getElementsByTagName(\"head\")[0].appendChild(s);\n",
       "          s.async = true;\n",
       "          s.onload = () => {\n",
       "            VEGA_DEBUG[key] = version;\n",
       "            return resolve(paths[lib]);\n",
       "          };\n",
       "          s.onerror = () => reject(`Error loading script: ${paths[lib]}`);\n",
       "          s.src = paths[lib];\n",
       "        });\n",
       "    }\n",
       "\n",
       "    function showError(err) {\n",
       "      outputDiv.innerHTML = `<div class=\"error\" style=\"color:red;\">${err}</div>`;\n",
       "      throw err;\n",
       "    }\n",
       "\n",
       "    function displayChart(vegaEmbed) {\n",
       "      vegaEmbed(outputDiv, spec, embedOpt)\n",
       "        .catch(err => showError(`Javascript Error: ${err.message}<br>This usually means there's a typo in your chart specification. See the javascript console for the full traceback.`));\n",
       "    }\n",
       "\n",
       "    if(typeof define === \"function\" && define.amd) {\n",
       "      requirejs.config({paths});\n",
       "      let deps = [\"vega-embed\"];\n",
       "      require(deps, displayChart, err => showError(`Error loading script: ${err.message}`));\n",
       "    } else {\n",
       "      maybeLoadScript(\"vega\", \"5\")\n",
       "        .then(() => maybeLoadScript(\"vega-lite\", \"5.20.1\"))\n",
       "        .then(() => maybeLoadScript(\"vega-embed\", \"6\"))\n",
       "        .catch(showError)\n",
       "        .then(() => displayChart(vegaEmbed));\n",
       "    }\n",
       "  })({\"config\": {\"view\": {\"continuousWidth\": 300, \"continuousHeight\": 300}}, \"data\": {\"name\": \"data-fc05a65902b2fd1b1eb29dc8ef44bd42\"}, \"mark\": {\"type\": \"bar\", \"tooltip\": true}, \"encoding\": {\"x\": {\"field\": \"animal\", \"type\": \"nominal\"}, \"y\": {\"field\": \"lifespan\", \"type\": \"quantitative\"}}, \"params\": [{\"name\": \"param_1\", \"select\": {\"type\": \"interval\", \"encodings\": [\"x\", \"y\"]}, \"bind\": \"scales\"}], \"$schema\": \"https://vega.github.io/schema/vega-lite/v5.20.1.json\", \"datasets\": {\"data-fc05a65902b2fd1b1eb29dc8ef44bd42\": [{\"animal\": \"dolphin\", \"class\": \"mammal\", \"habitat\": \"oceans/rivers\", \"diet\": \"carnivore\", \"lifespan\": 40, \"status\": \"least concern\", \"features\": \"high intelligence\", \"weight\": 150}, {\"animal\": \"duck\", \"class\": \"bird\", \"habitat\": \"wetlands\", \"diet\": \"omnivore\", \"lifespan\": 8, \"status\": \"least concern\", \"features\": \"waterproof feathers\", \"weight\": 3}, {\"animal\": \"elephant\", \"class\": \"mammal\", \"habitat\": \"savannah\", \"diet\": \"herbivore\", \"lifespan\": 60, \"status\": \"endangered\", \"features\": \"large ears and trunk\", \"weight\": 8000}, {\"animal\": \"ibis\", \"class\": \"bird\", \"habitat\": \"wetlands\", \"diet\": \"omnivore\", \"lifespan\": 16, \"status\": \"least concern\", \"features\": \"long, curved bill\", \"weight\": 1}, {\"animal\": \"impala\", \"class\": \"mammal\", \"habitat\": \"savannah\", \"diet\": \"herbivore\", \"lifespan\": 12, \"status\": \"least concern\", \"features\": \"long, curved horns\", \"weight\": 70}, {\"animal\": \"kudu\", \"class\": \"mammal\", \"habitat\": \"savannah\", \"diet\": \"herbivore\", \"lifespan\": 15, \"status\": \"least concern\", \"features\": \"spiral horns\", \"weight\": 250}, {\"animal\": \"narwhal\", \"class\": \"mammal\", \"habitat\": \"arctic ocean\", \"diet\": \"carnivore\", \"lifespan\": 40, \"status\": \"near threatened\", \"features\": \"long, spiral tusk\", \"weight\": null}, {\"animal\": \"panda\", \"class\": \"mammal\", \"habitat\": \"forests\", \"diet\": \"herbivore\", \"lifespan\": 20, \"status\": \"vulnerable\", \"features\": \"black and white coloration\", \"weight\": 100}, {\"animal\": \"polar bear\", \"class\": \"mammal\", \"habitat\": \"arctic\", \"diet\": \"carnivore\", \"lifespan\": 25, \"status\": \"vulnerable\", \"features\": \"thick fur and blubber\", \"weight\": 720}, {\"animal\": \"ray\", \"class\": \"fish\", \"habitat\": \"oceans\", \"diet\": \"carnivore\", \"lifespan\": 20, \"status\": \"\", \"features\": \"flat, disc-shaped body\", \"weight\": 90}]}}, {\"mode\": \"vega-lite\"});\n",
       "</script>"
      ],
      "text/plain": [
       "alt.Chart(...)"
      ]
     },
     "execution_count": 7,
     "metadata": {},
     "output_type": "execute_result"
    }
   ],
   "execution_count": 7
  },
  {
   "metadata": {
    "ExecuteTime": {
     "end_time": "2025-02-11T17:31:19.791709100Z",
     "start_time": "2025-02-11T17:30:57.250160Z"
    }
   },
   "cell_type": "code",
   "source": "df=pl.read_csv(\"data.csv\")",
   "id": "64678d9ade7dc7f9",
   "outputs": [],
   "execution_count": 8
  },
  {
   "metadata": {
    "ExecuteTime": {
     "end_time": "2025-02-11T17:31:19.793224900Z",
     "start_time": "2025-02-11T17:30:57.354823Z"
    }
   },
   "cell_type": "code",
   "source": "df",
   "id": "8617c75840e53763",
   "outputs": [
    {
     "data": {
      "text/plain": [
       "shape: (4, 3)\n",
       "┌─────────┬────────────┬────────┐\n",
       "│ name    ┆ role       ┆ salary │\n",
       "│ ---     ┆ ---        ┆ ---    │\n",
       "│ str     ┆ str        ┆ i64    │\n",
       "╞═════════╪════════════╪════════╡\n",
       "│ Bushra  ┆ Professor  ┆ 10000  │\n",
       "│ Fahim   ┆ Programmer ┆ null   │\n",
       "│ Gorilla ┆ Programmer ┆ 2000   │\n",
       "│ Asia    ┆ Professor  ┆ 40000  │\n",
       "└─────────┴────────────┴────────┘"
      ],
      "text/html": [
       "<div><style>\n",
       ".dataframe > thead > tr,\n",
       ".dataframe > tbody > tr {\n",
       "  text-align: right;\n",
       "  white-space: pre-wrap;\n",
       "}\n",
       "</style>\n",
       "<small>shape: (4, 3)</small><table border=\"1\" class=\"dataframe\"><thead><tr><th>name</th><th>role</th><th>salary</th></tr><tr><td>str</td><td>str</td><td>i64</td></tr></thead><tbody><tr><td>&quot;Bushra&quot;</td><td>&quot;Professor&quot;</td><td>10000</td></tr><tr><td>&quot;Fahim&quot;</td><td>&quot;Programmer&quot;</td><td>null</td></tr><tr><td>&quot;Gorilla&quot;</td><td>&quot;Programmer&quot;</td><td>2000</td></tr><tr><td>&quot;Asia&quot;</td><td>&quot;Professor&quot;</td><td>40000</td></tr></tbody></table></div>"
      ]
     },
     "execution_count": 9,
     "metadata": {},
     "output_type": "execute_result"
    }
   ],
   "execution_count": 9
  },
  {
   "metadata": {
    "ExecuteTime": {
     "end_time": "2025-02-11T17:31:19.804200800Z",
     "start_time": "2025-02-11T17:30:57.480840Z"
    }
   },
   "cell_type": "code",
   "source": "df.count()",
   "id": "204d899373b7baaa",
   "outputs": [
    {
     "data": {
      "text/plain": [
       "shape: (1, 3)\n",
       "┌──────┬──────┬────────┐\n",
       "│ name ┆ role ┆ salary │\n",
       "│ ---  ┆ ---  ┆ ---    │\n",
       "│ u32  ┆ u32  ┆ u32    │\n",
       "╞══════╪══════╪════════╡\n",
       "│ 4    ┆ 4    ┆ 3      │\n",
       "└──────┴──────┴────────┘"
      ],
      "text/html": [
       "<div><style>\n",
       ".dataframe > thead > tr,\n",
       ".dataframe > tbody > tr {\n",
       "  text-align: right;\n",
       "  white-space: pre-wrap;\n",
       "}\n",
       "</style>\n",
       "<small>shape: (1, 3)</small><table border=\"1\" class=\"dataframe\"><thead><tr><th>name</th><th>role</th><th>salary</th></tr><tr><td>u32</td><td>u32</td><td>u32</td></tr></thead><tbody><tr><td>4</td><td>4</td><td>3</td></tr></tbody></table></div>"
      ]
     },
     "execution_count": 10,
     "metadata": {},
     "output_type": "execute_result"
    }
   ],
   "execution_count": 10
  },
  {
   "metadata": {
    "ExecuteTime": {
     "end_time": "2025-02-11T17:31:19.808499900Z",
     "start_time": "2025-02-11T17:30:57.727857Z"
    }
   },
   "cell_type": "code",
   "source": "#df.sql(\"select count\")",
   "id": "52db2c4ab98ca8b2",
   "outputs": [],
   "execution_count": 11
  },
  {
   "metadata": {
    "ExecuteTime": {
     "end_time": "2025-02-11T17:31:19.808499900Z",
     "start_time": "2025-02-11T17:30:57.884593Z"
    }
   },
   "cell_type": "code",
   "source": [
    "fahim_salary=df['salary'].mean()\n",
    "fahim_salary"
   ],
   "id": "1ce15c9e4fe1c2c2",
   "outputs": [
    {
     "data": {
      "text/plain": [
       "17333.333333333332"
      ]
     },
     "execution_count": 12,
     "metadata": {},
     "output_type": "execute_result"
    }
   ],
   "execution_count": 12
  },
  {
   "metadata": {
    "ExecuteTime": {
     "end_time": "2025-02-11T17:31:19.812230800Z",
     "start_time": "2025-02-11T17:30:57.996010Z"
    }
   },
   "cell_type": "code",
   "source": "df['salary'].fill_null(fahim_salary)",
   "id": "601a271be29a77e4",
   "outputs": [
    {
     "data": {
      "text/plain": [
       "shape: (4,)\n",
       "Series: 'salary' [f64]\n",
       "[\n",
       "\t10000.0\n",
       "\t17333.333333\n",
       "\t2000.0\n",
       "\t40000.0\n",
       "]"
      ],
      "text/html": [
       "<div><style>\n",
       ".dataframe > thead > tr,\n",
       ".dataframe > tbody > tr {\n",
       "  text-align: right;\n",
       "  white-space: pre-wrap;\n",
       "}\n",
       "</style>\n",
       "<small>shape: (4,)</small><table border=\"1\" class=\"dataframe\"><thead><tr><th>salary</th></tr><tr><td>f64</td></tr></thead><tbody><tr><td>10000.0</td></tr><tr><td>17333.333333</td></tr><tr><td>2000.0</td></tr><tr><td>40000.0</td></tr></tbody></table></div>"
      ]
     },
     "execution_count": 13,
     "metadata": {},
     "output_type": "execute_result"
    }
   ],
   "execution_count": 13
  },
  {
   "metadata": {
    "ExecuteTime": {
     "end_time": "2025-02-11T17:31:19.815277900Z",
     "start_time": "2025-02-11T17:30:58.228044Z"
    }
   },
   "cell_type": "code",
   "source": "df['salary'].cast(dtype=int)",
   "id": "55ceb2f84f2b0405",
   "outputs": [
    {
     "data": {
      "text/plain": [
       "shape: (4,)\n",
       "Series: 'salary' [i64]\n",
       "[\n",
       "\t10000\n",
       "\tnull\n",
       "\t2000\n",
       "\t40000\n",
       "]"
      ],
      "text/html": [
       "<div><style>\n",
       ".dataframe > thead > tr,\n",
       ".dataframe > tbody > tr {\n",
       "  text-align: right;\n",
       "  white-space: pre-wrap;\n",
       "}\n",
       "</style>\n",
       "<small>shape: (4,)</small><table border=\"1\" class=\"dataframe\"><thead><tr><th>salary</th></tr><tr><td>i64</td></tr></thead><tbody><tr><td>10000</td></tr><tr><td>null</td></tr><tr><td>2000</td></tr><tr><td>40000</td></tr></tbody></table></div>"
      ]
     },
     "execution_count": 14,
     "metadata": {},
     "output_type": "execute_result"
    }
   ],
   "execution_count": 14
  },
  {
   "metadata": {
    "ExecuteTime": {
     "end_time": "2025-02-11T17:31:19.817296400Z",
     "start_time": "2025-02-11T17:30:58.468382Z"
    }
   },
   "cell_type": "code",
   "source": "animal_df",
   "id": "f1604667f0db5bb9",
   "outputs": [
    {
     "data": {
      "text/plain": [
       "shape: (10, 8)\n",
       "┌────────────┬────────┬──────────────┬───────────┬──────────┬──────────────┬──────────────┬────────┐\n",
       "│ animal     ┆ class  ┆ habitat      ┆ diet      ┆ lifespan ┆ status       ┆ features     ┆ weight │\n",
       "│ ---        ┆ ---    ┆ ---          ┆ ---       ┆ ---      ┆ ---          ┆ ---          ┆ ---    │\n",
       "│ str        ┆ str    ┆ str          ┆ str       ┆ i64      ┆ str          ┆ str          ┆ i64    │\n",
       "╞════════════╪════════╪══════════════╪═══════════╪══════════╪══════════════╪══════════════╪════════╡\n",
       "│ dolphin    ┆ mammal ┆ oceans/river ┆ carnivore ┆ 40       ┆ least        ┆ high         ┆ 150    │\n",
       "│            ┆        ┆ s            ┆           ┆          ┆ concern      ┆ intelligence ┆        │\n",
       "│ duck       ┆ bird   ┆ wetlands     ┆ omnivore  ┆ 8        ┆ least        ┆ waterproof   ┆ 3      │\n",
       "│            ┆        ┆              ┆           ┆          ┆ concern      ┆ feathers     ┆        │\n",
       "│ elephant   ┆ mammal ┆ savannah     ┆ herbivore ┆ 60       ┆ endangered   ┆ large ears   ┆ 8000   │\n",
       "│            ┆        ┆              ┆           ┆          ┆              ┆ and trunk    ┆        │\n",
       "│ ibis       ┆ bird   ┆ wetlands     ┆ omnivore  ┆ 16       ┆ least        ┆ long, curved ┆ 1      │\n",
       "│            ┆        ┆              ┆           ┆          ┆ concern      ┆ bill         ┆        │\n",
       "│ impala     ┆ mammal ┆ savannah     ┆ herbivore ┆ 12       ┆ least        ┆ long, curved ┆ 70     │\n",
       "│            ┆        ┆              ┆           ┆          ┆ concern      ┆ horns        ┆        │\n",
       "│ kudu       ┆ mammal ┆ savannah     ┆ herbivore ┆ 15       ┆ least        ┆ spiral horns ┆ 250    │\n",
       "│            ┆        ┆              ┆           ┆          ┆ concern      ┆              ┆        │\n",
       "│ narwhal    ┆ mammal ┆ arctic ocean ┆ carnivore ┆ 40       ┆ near         ┆ long, spiral ┆ null   │\n",
       "│            ┆        ┆              ┆           ┆          ┆ threatened   ┆ tusk         ┆        │\n",
       "│ panda      ┆ mammal ┆ forests      ┆ herbivore ┆ 20       ┆ vulnerable   ┆ black and    ┆ 100    │\n",
       "│            ┆        ┆              ┆           ┆          ┆              ┆ white        ┆        │\n",
       "│            ┆        ┆              ┆           ┆          ┆              ┆ coloration   ┆        │\n",
       "│ polar bear ┆ mammal ┆ arctic       ┆ carnivore ┆ 25       ┆ vulnerable   ┆ thick fur    ┆ 720    │\n",
       "│            ┆        ┆              ┆           ┆          ┆              ┆ and blubber  ┆        │\n",
       "│ ray        ┆ fish   ┆ oceans       ┆ carnivore ┆ 20       ┆              ┆ flat,        ┆ 90     │\n",
       "│            ┆        ┆              ┆           ┆          ┆              ┆ disc-shaped  ┆        │\n",
       "│            ┆        ┆              ┆           ┆          ┆              ┆ body         ┆        │\n",
       "└────────────┴────────┴──────────────┴───────────┴──────────┴──────────────┴──────────────┴────────┘"
      ],
      "text/html": [
       "<div><style>\n",
       ".dataframe > thead > tr,\n",
       ".dataframe > tbody > tr {\n",
       "  text-align: right;\n",
       "  white-space: pre-wrap;\n",
       "}\n",
       "</style>\n",
       "<small>shape: (10, 8)</small><table border=\"1\" class=\"dataframe\"><thead><tr><th>animal</th><th>class</th><th>habitat</th><th>diet</th><th>lifespan</th><th>status</th><th>features</th><th>weight</th></tr><tr><td>str</td><td>str</td><td>str</td><td>str</td><td>i64</td><td>str</td><td>str</td><td>i64</td></tr></thead><tbody><tr><td>&quot;dolphin&quot;</td><td>&quot;mammal&quot;</td><td>&quot;oceans/rivers&quot;</td><td>&quot;carnivore&quot;</td><td>40</td><td>&quot;least concern&quot;</td><td>&quot;high intelligence&quot;</td><td>150</td></tr><tr><td>&quot;duck&quot;</td><td>&quot;bird&quot;</td><td>&quot;wetlands&quot;</td><td>&quot;omnivore&quot;</td><td>8</td><td>&quot;least concern&quot;</td><td>&quot;waterproof feathers&quot;</td><td>3</td></tr><tr><td>&quot;elephant&quot;</td><td>&quot;mammal&quot;</td><td>&quot;savannah&quot;</td><td>&quot;herbivore&quot;</td><td>60</td><td>&quot;endangered&quot;</td><td>&quot;large ears and trunk&quot;</td><td>8000</td></tr><tr><td>&quot;ibis&quot;</td><td>&quot;bird&quot;</td><td>&quot;wetlands&quot;</td><td>&quot;omnivore&quot;</td><td>16</td><td>&quot;least concern&quot;</td><td>&quot;long, curved bill&quot;</td><td>1</td></tr><tr><td>&quot;impala&quot;</td><td>&quot;mammal&quot;</td><td>&quot;savannah&quot;</td><td>&quot;herbivore&quot;</td><td>12</td><td>&quot;least concern&quot;</td><td>&quot;long, curved horns&quot;</td><td>70</td></tr><tr><td>&quot;kudu&quot;</td><td>&quot;mammal&quot;</td><td>&quot;savannah&quot;</td><td>&quot;herbivore&quot;</td><td>15</td><td>&quot;least concern&quot;</td><td>&quot;spiral horns&quot;</td><td>250</td></tr><tr><td>&quot;narwhal&quot;</td><td>&quot;mammal&quot;</td><td>&quot;arctic ocean&quot;</td><td>&quot;carnivore&quot;</td><td>40</td><td>&quot;near threatened&quot;</td><td>&quot;long, spiral tusk&quot;</td><td>null</td></tr><tr><td>&quot;panda&quot;</td><td>&quot;mammal&quot;</td><td>&quot;forests&quot;</td><td>&quot;herbivore&quot;</td><td>20</td><td>&quot;vulnerable&quot;</td><td>&quot;black and white coloration&quot;</td><td>100</td></tr><tr><td>&quot;polar bear&quot;</td><td>&quot;mammal&quot;</td><td>&quot;arctic&quot;</td><td>&quot;carnivore&quot;</td><td>25</td><td>&quot;vulnerable&quot;</td><td>&quot;thick fur and blubber&quot;</td><td>720</td></tr><tr><td>&quot;ray&quot;</td><td>&quot;fish&quot;</td><td>&quot;oceans&quot;</td><td>&quot;carnivore&quot;</td><td>20</td><td>&quot;&quot;</td><td>&quot;flat, disc-shaped body&quot;</td><td>90</td></tr></tbody></table></div>"
      ]
     },
     "execution_count": 15,
     "metadata": {},
     "output_type": "execute_result"
    }
   ],
   "execution_count": 15
  }
 ],
 "metadata": {
  "kernelspec": {
   "display_name": "Python 3",
   "language": "python",
   "name": "python3"
  },
  "language_info": {
   "codemirror_mode": {
    "name": "ipython",
    "version": 2
   },
   "file_extension": ".py",
   "mimetype": "text/x-python",
   "name": "python",
   "nbconvert_exporter": "python",
   "pygments_lexer": "ipython2",
   "version": "2.7.6"
  }
 },
 "nbformat": 4,
 "nbformat_minor": 5
}
