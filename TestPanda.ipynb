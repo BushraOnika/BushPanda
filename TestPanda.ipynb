{
 "cells": [
  {
   "cell_type": "code",
   "id": "initial_id",
   "metadata": {
    "collapsed": true,
    "ExecuteTime": {
     "end_time": "2025-02-05T14:04:57.534729Z",
     "start_time": "2025-02-05T14:04:57.515479Z"
    }
   },
   "source": [
    "from operator import concat\n",
    "\n",
    "import pandas as pd\n",
    "import numpy as np\n",
    "from pandas.core.algorithms import duplicated\n",
    "from pandas.core.interchange.dataframe_protocol import DataFrame"
   ],
   "outputs": [],
   "execution_count": 32
  },
  {
   "metadata": {
    "ExecuteTime": {
     "end_time": "2025-02-05T14:04:57.549588Z",
     "start_time": "2025-02-05T14:04:57.543299Z"
    }
   },
   "cell_type": "code",
   "source": [
    "comp_dic = {\n",
    "    \"name\": [\"Bushra\", \"Not Bushra\"],\n",
    "    \"beauty_score\": [10, -1]\n",
    "}\n",
    "\n",
    "simple_dic = dict(name=[\"Bushra\", \"Not Bushra\"], beauty_score=[10, -1])\n"
   ],
   "id": "193418514f053f",
   "outputs": [],
   "execution_count": 33
  },
  {
   "metadata": {
    "ExecuteTime": {
     "end_time": "2025-02-05T14:04:57.580891Z",
     "start_time": "2025-02-05T14:04:57.566817Z"
    }
   },
   "cell_type": "code",
   "source": "comp_dic",
   "id": "bf41ebf89c641168",
   "outputs": [
    {
     "data": {
      "text/plain": [
       "{'name': ['Bushra', 'Not Bushra'], 'beauty_score': [10, -1]}"
      ]
     },
     "execution_count": 34,
     "metadata": {},
     "output_type": "execute_result"
    }
   ],
   "execution_count": 34
  },
  {
   "metadata": {
    "ExecuteTime": {
     "end_time": "2025-02-05T14:04:57.612040Z",
     "start_time": "2025-02-05T14:04:57.601548Z"
    }
   },
   "cell_type": "code",
   "source": "simple_dic",
   "id": "2508fc44fb62bba5",
   "outputs": [
    {
     "data": {
      "text/plain": [
       "{'name': ['Bushra', 'Not Bushra'], 'beauty_score': [10, -1]}"
      ]
     },
     "execution_count": 35,
     "metadata": {},
     "output_type": "execute_result"
    }
   ],
   "execution_count": 35
  },
  {
   "metadata": {
    "ExecuteTime": {
     "end_time": "2025-02-05T14:04:57.674510Z",
     "start_time": "2025-02-05T14:04:57.646758Z"
    }
   },
   "cell_type": "code",
   "source": [
    "arr = np.array([25, 26, None])\n",
    "name_arr = np.array([\"Bushra\", \"Bushra\", None])\n",
    "df = pd.DataFrame({\"name\": name_arr, 'Age': arr})\n",
    "df"
   ],
   "id": "ba459373b5704765",
   "outputs": [
    {
     "data": {
      "text/plain": [
       "     name   Age\n",
       "0  Bushra    25\n",
       "1  Bushra    26\n",
       "2    None  None"
      ],
      "text/html": [
       "<div>\n",
       "<style scoped>\n",
       "    .dataframe tbody tr th:only-of-type {\n",
       "        vertical-align: middle;\n",
       "    }\n",
       "\n",
       "    .dataframe tbody tr th {\n",
       "        vertical-align: top;\n",
       "    }\n",
       "\n",
       "    .dataframe thead th {\n",
       "        text-align: right;\n",
       "    }\n",
       "</style>\n",
       "<table border=\"1\" class=\"dataframe\">\n",
       "  <thead>\n",
       "    <tr style=\"text-align: right;\">\n",
       "      <th></th>\n",
       "      <th>name</th>\n",
       "      <th>Age</th>\n",
       "    </tr>\n",
       "  </thead>\n",
       "  <tbody>\n",
       "    <tr>\n",
       "      <th>0</th>\n",
       "      <td>Bushra</td>\n",
       "      <td>25</td>\n",
       "    </tr>\n",
       "    <tr>\n",
       "      <th>1</th>\n",
       "      <td>Bushra</td>\n",
       "      <td>26</td>\n",
       "    </tr>\n",
       "    <tr>\n",
       "      <th>2</th>\n",
       "      <td>None</td>\n",
       "      <td>None</td>\n",
       "    </tr>\n",
       "  </tbody>\n",
       "</table>\n",
       "</div>"
      ]
     },
     "execution_count": 36,
     "metadata": {},
     "output_type": "execute_result"
    }
   ],
   "execution_count": 36
  },
  {
   "metadata": {
    "ExecuteTime": {
     "end_time": "2025-02-05T14:04:57.800549Z",
     "start_time": "2025-02-05T14:04:57.787799Z"
    }
   },
   "cell_type": "code",
   "source": "df.iloc[0]",
   "id": "253b26c37757d257",
   "outputs": [
    {
     "data": {
      "text/plain": [
       "name    Bushra\n",
       "Age         25\n",
       "Name: 0, dtype: object"
      ]
     },
     "execution_count": 37,
     "metadata": {},
     "output_type": "execute_result"
    }
   ],
   "execution_count": 37
  },
  {
   "metadata": {
    "ExecuteTime": {
     "end_time": "2025-02-05T14:04:58.016583Z",
     "start_time": "2025-02-05T14:04:57.996584Z"
    }
   },
   "cell_type": "code",
   "source": "df.loc[0]",
   "id": "a2a1cdb945abf192",
   "outputs": [
    {
     "data": {
      "text/plain": [
       "name    Bushra\n",
       "Age         25\n",
       "Name: 0, dtype: object"
      ]
     },
     "execution_count": 38,
     "metadata": {},
     "output_type": "execute_result"
    }
   ],
   "execution_count": 38
  },
  {
   "metadata": {
    "ExecuteTime": {
     "end_time": "2025-02-05T14:04:58.470221Z",
     "start_time": "2025-02-05T14:04:58.456876Z"
    }
   },
   "cell_type": "code",
   "source": "df.head()",
   "id": "cb69615c2cb1a265",
   "outputs": [
    {
     "data": {
      "text/plain": [
       "     name   Age\n",
       "0  Bushra    25\n",
       "1  Bushra    26\n",
       "2    None  None"
      ],
      "text/html": [
       "<div>\n",
       "<style scoped>\n",
       "    .dataframe tbody tr th:only-of-type {\n",
       "        vertical-align: middle;\n",
       "    }\n",
       "\n",
       "    .dataframe tbody tr th {\n",
       "        vertical-align: top;\n",
       "    }\n",
       "\n",
       "    .dataframe thead th {\n",
       "        text-align: right;\n",
       "    }\n",
       "</style>\n",
       "<table border=\"1\" class=\"dataframe\">\n",
       "  <thead>\n",
       "    <tr style=\"text-align: right;\">\n",
       "      <th></th>\n",
       "      <th>name</th>\n",
       "      <th>Age</th>\n",
       "    </tr>\n",
       "  </thead>\n",
       "  <tbody>\n",
       "    <tr>\n",
       "      <th>0</th>\n",
       "      <td>Bushra</td>\n",
       "      <td>25</td>\n",
       "    </tr>\n",
       "    <tr>\n",
       "      <th>1</th>\n",
       "      <td>Bushra</td>\n",
       "      <td>26</td>\n",
       "    </tr>\n",
       "    <tr>\n",
       "      <th>2</th>\n",
       "      <td>None</td>\n",
       "      <td>None</td>\n",
       "    </tr>\n",
       "  </tbody>\n",
       "</table>\n",
       "</div>"
      ]
     },
     "execution_count": 39,
     "metadata": {},
     "output_type": "execute_result"
    }
   ],
   "execution_count": 39
  },
  {
   "metadata": {
    "ExecuteTime": {
     "end_time": "2025-02-05T14:04:58.721692Z",
     "start_time": "2025-02-05T14:04:58.694628Z"
    }
   },
   "cell_type": "code",
   "source": "df.dropna()",
   "id": "7f60fe469a43e228",
   "outputs": [
    {
     "data": {
      "text/plain": [
       "     name Age\n",
       "0  Bushra  25\n",
       "1  Bushra  26"
      ],
      "text/html": [
       "<div>\n",
       "<style scoped>\n",
       "    .dataframe tbody tr th:only-of-type {\n",
       "        vertical-align: middle;\n",
       "    }\n",
       "\n",
       "    .dataframe tbody tr th {\n",
       "        vertical-align: top;\n",
       "    }\n",
       "\n",
       "    .dataframe thead th {\n",
       "        text-align: right;\n",
       "    }\n",
       "</style>\n",
       "<table border=\"1\" class=\"dataframe\">\n",
       "  <thead>\n",
       "    <tr style=\"text-align: right;\">\n",
       "      <th></th>\n",
       "      <th>name</th>\n",
       "      <th>Age</th>\n",
       "    </tr>\n",
       "  </thead>\n",
       "  <tbody>\n",
       "    <tr>\n",
       "      <th>0</th>\n",
       "      <td>Bushra</td>\n",
       "      <td>25</td>\n",
       "    </tr>\n",
       "    <tr>\n",
       "      <th>1</th>\n",
       "      <td>Bushra</td>\n",
       "      <td>26</td>\n",
       "    </tr>\n",
       "  </tbody>\n",
       "</table>\n",
       "</div>"
      ]
     },
     "execution_count": 40,
     "metadata": {},
     "output_type": "execute_result"
    }
   ],
   "execution_count": 40
  },
  {
   "metadata": {
    "ExecuteTime": {
     "end_time": "2025-02-05T14:04:58.973960Z",
     "start_time": "2025-02-05T14:04:58.944753Z"
    }
   },
   "cell_type": "code",
   "source": [
    "df.loc[0, 'Age'] = 26\n",
    "df.drop_duplicates()"
   ],
   "id": "b6965b64aafd864",
   "outputs": [
    {
     "data": {
      "text/plain": [
       "     name   Age\n",
       "0  Bushra    26\n",
       "2    None  None"
      ],
      "text/html": [
       "<div>\n",
       "<style scoped>\n",
       "    .dataframe tbody tr th:only-of-type {\n",
       "        vertical-align: middle;\n",
       "    }\n",
       "\n",
       "    .dataframe tbody tr th {\n",
       "        vertical-align: top;\n",
       "    }\n",
       "\n",
       "    .dataframe thead th {\n",
       "        text-align: right;\n",
       "    }\n",
       "</style>\n",
       "<table border=\"1\" class=\"dataframe\">\n",
       "  <thead>\n",
       "    <tr style=\"text-align: right;\">\n",
       "      <th></th>\n",
       "      <th>name</th>\n",
       "      <th>Age</th>\n",
       "    </tr>\n",
       "  </thead>\n",
       "  <tbody>\n",
       "    <tr>\n",
       "      <th>0</th>\n",
       "      <td>Bushra</td>\n",
       "      <td>26</td>\n",
       "    </tr>\n",
       "    <tr>\n",
       "      <th>2</th>\n",
       "      <td>None</td>\n",
       "      <td>None</td>\n",
       "    </tr>\n",
       "  </tbody>\n",
       "</table>\n",
       "</div>"
      ]
     },
     "execution_count": 41,
     "metadata": {},
     "output_type": "execute_result"
    }
   ],
   "execution_count": 41
  },
  {
   "metadata": {
    "ExecuteTime": {
     "end_time": "2025-02-05T14:04:59.193014Z",
     "start_time": "2025-02-05T14:04:59.180565Z"
    }
   },
   "cell_type": "code",
   "source": "df.duplicated()",
   "id": "788a545e8b5b6ee1",
   "outputs": [
    {
     "data": {
      "text/plain": [
       "0    False\n",
       "1     True\n",
       "2    False\n",
       "dtype: bool"
      ]
     },
     "execution_count": 42,
     "metadata": {},
     "output_type": "execute_result"
    }
   ],
   "execution_count": 42
  },
  {
   "metadata": {
    "ExecuteTime": {
     "end_time": "2025-02-05T14:04:59.486776Z",
     "start_time": "2025-02-05T14:04:59.475188Z"
    }
   },
   "cell_type": "code",
   "source": "import matplotlib",
   "id": "99710f75e0445810",
   "outputs": [],
   "execution_count": 43
  },
  {
   "metadata": {
    "ExecuteTime": {
     "end_time": "2025-02-05T14:04:59.814914Z",
     "start_time": "2025-02-05T14:04:59.633821Z"
    }
   },
   "cell_type": "code",
   "source": [
    "df2 = df['Age']\n",
    "df['Age'].plot(kind='hist')"
   ],
   "id": "43447ba6a005b947",
   "outputs": [
    {
     "data": {
      "text/plain": [
       "<Axes: ylabel='Frequency'>"
      ]
     },
     "execution_count": 44,
     "metadata": {},
     "output_type": "execute_result"
    },
    {
     "data": {
      "text/plain": [
       "<Figure size 640x480 with 1 Axes>"
      ],
      "image/png": "[encoded data removed]"
     },
     "metadata": {},
     "output_type": "display_data"
    }
   ],
   "execution_count": 44
  },
  {
   "metadata": {
    "ExecuteTime": {
     "end_time": "2025-02-05T14:04:59.937275Z",
     "start_time": "2025-02-05T14:04:59.917185Z"
    }
   },
   "cell_type": "code",
   "source": [
    "arr = np.array([1, 2, 3])\n",
    "arr2 = np.array([2, 3, 4])\n",
    "arr3 = np.array([5, 6, 7])\n",
    "arr_com = [arr, arr2, arr3]\n",
    "pd.DataFrame(arr_com, index=[\"a\", 'b', 'c'], columns=['A', 'B', 'C'])"
   ],
   "id": "1270c69e8cb1998f",
   "outputs": [
    {
     "data": {
      "text/plain": [
       "   A  B  C\n",
       "a  1  2  3\n",
       "b  2  3  4\n",
       "c  5  6  7"
      ],
      "text/html": [
       "<div>\n",
       "<style scoped>\n",
       "    .dataframe tbody tr th:only-of-type {\n",
       "        vertical-align: middle;\n",
       "    }\n",
       "\n",
       "    .dataframe tbody tr th {\n",
       "        vertical-align: top;\n",
       "    }\n",
       "\n",
       "    .dataframe thead th {\n",
       "        text-align: right;\n",
       "    }\n",
       "</style>\n",
       "<table border=\"1\" class=\"dataframe\">\n",
       "  <thead>\n",
       "    <tr style=\"text-align: right;\">\n",
       "      <th></th>\n",
       "      <th>A</th>\n",
       "      <th>B</th>\n",
       "      <th>C</th>\n",
       "    </tr>\n",
       "  </thead>\n",
       "  <tbody>\n",
       "    <tr>\n",
       "      <th>a</th>\n",
       "      <td>1</td>\n",
       "      <td>2</td>\n",
       "      <td>3</td>\n",
       "    </tr>\n",
       "    <tr>\n",
       "      <th>b</th>\n",
       "      <td>2</td>\n",
       "      <td>3</td>\n",
       "      <td>4</td>\n",
       "    </tr>\n",
       "    <tr>\n",
       "      <th>c</th>\n",
       "      <td>5</td>\n",
       "      <td>6</td>\n",
       "      <td>7</td>\n",
       "    </tr>\n",
       "  </tbody>\n",
       "</table>\n",
       "</div>"
      ]
     },
     "execution_count": 45,
     "metadata": {},
     "output_type": "execute_result"
    }
   ],
   "execution_count": 45
  },
  {
   "metadata": {
    "ExecuteTime": {
     "end_time": "2025-02-05T14:05:00.047254Z",
     "start_time": "2025-02-05T14:05:00.036783Z"
    }
   },
   "cell_type": "code",
   "source": [
    "df = pd.DataFrame()\n",
    "print(df)"
   ],
   "id": "c72f55a20b342fa0",
   "outputs": [
    {
     "name": "stdout",
     "output_type": "stream",
     "text": [
      "Empty DataFrame\n",
      "Columns: []\n",
      "Index: []\n"
     ]
    }
   ],
   "execution_count": 46
  },
  {
   "metadata": {
    "ExecuteTime": {
     "end_time": "2025-02-05T14:05:00.250194Z",
     "start_time": "2025-02-05T14:05:00.229992Z"
    }
   },
   "cell_type": "code",
   "source": [
    "data = [['a1', 'b1', 'c1'],\n",
    "        ['a2', 'b2', 'c2'],\n",
    "        ['a3', 'b3', 'c3']]\n",
    "\n",
    "df = pd.DataFrame(data)\n",
    "print(df)"
   ],
   "id": "5c8855e1877ecf21",
   "outputs": [
    {
     "name": "stdout",
     "output_type": "stream",
     "text": [
      "    0   1   2\n",
      "0  a1  b1  c1\n",
      "1  a2  b2  c2\n",
      "2  a3  b3  c3\n"
     ]
    }
   ],
   "execution_count": 47
  },
  {
   "metadata": {
    "ExecuteTime": {
     "end_time": "2025-02-05T14:05:00.468086Z",
     "start_time": "2025-02-05T14:05:00.446066Z"
    }
   },
   "cell_type": "code",
   "source": [
    "data = [['a1', 'b1', 'c1'],\n",
    "        ['a2', 'b2', 'c2'],\n",
    "        ['a3', 'b3', 'c3']]\n",
    "\n",
    "df = pd.DataFrame(data)\n",
    "print(df)"
   ],
   "id": "a0025c27f84a4a5",
   "outputs": [
    {
     "name": "stdout",
     "output_type": "stream",
     "text": [
      "    0   1   2\n",
      "0  a1  b1  c1\n",
      "1  a2  b2  c2\n",
      "2  a3  b3  c3\n"
     ]
    }
   ],
   "execution_count": 48
  },
  {
   "metadata": {
    "ExecuteTime": {
     "end_time": "2025-02-05T14:05:00.545170Z",
     "start_time": "2025-02-05T14:05:00.528645Z"
    }
   },
   "cell_type": "code",
   "source": [
    "data = {'col1': ['a1', 'b1', 'c1'],\n",
    "        'col2': ['a2', 'b2', 'c2'],\n",
    "        'col3': ['a3', 'b3', 'c3']\n",
    "        }\n",
    "\n",
    "df = pd.DataFrame(data)\n",
    "print(df)"
   ],
   "id": "7c241e45858ac75c",
   "outputs": [
    {
     "name": "stdout",
     "output_type": "stream",
     "text": [
      "  col1 col2 col3\n",
      "0   a1   a2   a3\n",
      "1   b1   b2   b3\n",
      "2   c1   c2   c3\n"
     ]
    }
   ],
   "execution_count": 49
  },
  {
   "metadata": {
    "ExecuteTime": {
     "end_time": "2025-02-05T14:05:00.609543Z",
     "start_time": "2025-02-05T14:05:00.597563Z"
    }
   },
   "cell_type": "code",
   "source": [
    "series_panda = pd.Series([1, 2, 3, 4, 8, 9], name='S1')\n",
    "series_panda"
   ],
   "id": "c96481d092e66e13",
   "outputs": [
    {
     "data": {
      "text/plain": [
       "0    1\n",
       "1    2\n",
       "2    3\n",
       "3    4\n",
       "4    8\n",
       "5    9\n",
       "Name: S1, dtype: int64"
      ]
     },
     "execution_count": 50,
     "metadata": {},
     "output_type": "execute_result"
    }
   ],
   "execution_count": 50
  },
  {
   "metadata": {
    "ExecuteTime": {
     "end_time": "2025-02-05T14:05:00.747409Z",
     "start_time": "2025-02-05T14:05:00.736074Z"
    }
   },
   "cell_type": "code",
   "source": "df = pd.DataFrame(series_panda)",
   "id": "f70ca5174441d163",
   "outputs": [],
   "execution_count": 51
  },
  {
   "metadata": {
    "ExecuteTime": {
     "end_time": "2025-02-05T14:05:00.920454Z",
     "start_time": "2025-02-05T14:05:00.915058Z"
    }
   },
   "cell_type": "code",
   "source": "series2 = pd.Series([5, 6, 7, 8, 10], name='S2')",
   "id": "6707390231c43936",
   "outputs": [],
   "execution_count": 52
  },
  {
   "metadata": {
    "ExecuteTime": {
     "end_time": "2025-02-05T14:05:01.030174Z",
     "start_time": "2025-02-05T14:05:01.017707Z"
    }
   },
   "cell_type": "code",
   "source": [
    "df = pd.DataFrame(series_panda)\n",
    "df"
   ],
   "id": "555d4375ab29f35b",
   "outputs": [
    {
     "data": {
      "text/plain": [
       "   S1\n",
       "0   1\n",
       "1   2\n",
       "2   3\n",
       "3   4\n",
       "4   8\n",
       "5   9"
      ],
      "text/html": [
       "<div>\n",
       "<style scoped>\n",
       "    .dataframe tbody tr th:only-of-type {\n",
       "        vertical-align: middle;\n",
       "    }\n",
       "\n",
       "    .dataframe tbody tr th {\n",
       "        vertical-align: top;\n",
       "    }\n",
       "\n",
       "    .dataframe thead th {\n",
       "        text-align: right;\n",
       "    }\n",
       "</style>\n",
       "<table border=\"1\" class=\"dataframe\">\n",
       "  <thead>\n",
       "    <tr style=\"text-align: right;\">\n",
       "      <th></th>\n",
       "      <th>S1</th>\n",
       "    </tr>\n",
       "  </thead>\n",
       "  <tbody>\n",
       "    <tr>\n",
       "      <th>0</th>\n",
       "      <td>1</td>\n",
       "    </tr>\n",
       "    <tr>\n",
       "      <th>1</th>\n",
       "      <td>2</td>\n",
       "    </tr>\n",
       "    <tr>\n",
       "      <th>2</th>\n",
       "      <td>3</td>\n",
       "    </tr>\n",
       "    <tr>\n",
       "      <th>3</th>\n",
       "      <td>4</td>\n",
       "    </tr>\n",
       "    <tr>\n",
       "      <th>4</th>\n",
       "      <td>8</td>\n",
       "    </tr>\n",
       "    <tr>\n",
       "      <th>5</th>\n",
       "      <td>9</td>\n",
       "    </tr>\n",
       "  </tbody>\n",
       "</table>\n",
       "</div>"
      ]
     },
     "execution_count": 53,
     "metadata": {},
     "output_type": "execute_result"
    }
   ],
   "execution_count": 53
  },
  {
   "metadata": {
    "ExecuteTime": {
     "end_time": "2025-02-05T14:05:01.168646Z",
     "start_time": "2025-02-05T14:05:01.155692Z"
    }
   },
   "cell_type": "code",
   "source": [
    "df = pd.DataFrame({\"name\": ['bush', 'oni'],\n",
    "                   \"country\": ['Japan', \"USA\"],\n",
    "                   \"age\": [25, 24],\n",
    "                   \"Major\": [\"CSE\", \"MATH\"]})"
   ],
   "id": "10af3b8c1a5f7849",
   "outputs": [],
   "execution_count": 54
  },
  {
   "metadata": {
    "ExecuteTime": {
     "end_time": "2025-02-05T14:05:01.324978Z",
     "start_time": "2025-02-05T14:05:01.308375Z"
    }
   },
   "cell_type": "code",
   "source": [
    "apartment_dataset = {'flat': [1, 2, 3, 4],\n",
    "                     'kitchen': [1, 1, 2, 0],\n",
    "                     'bathroom': [5, 2, 2, 8],\n",
    "                     'bedroom': [10, 5, 4, 15],\n",
    "                     'baranda': [7, 2, 2, 4]\n",
    "                     }\n",
    "df = pd.DataFrame(apartment_dataset)"
   ],
   "id": "c661c4dc4ca89ee7",
   "outputs": [],
   "execution_count": 55
  },
  {
   "metadata": {
    "ExecuteTime": {
     "end_time": "2025-02-05T14:18:43.840576Z",
     "start_time": "2025-02-05T14:18:43.817659Z"
    }
   },
   "cell_type": "code",
   "source": [
    "flat = [1, 2, 3, 4]\n",
    "kitchen = [1, 1, 2, 0]\n",
    "bathroom = [5, 2, 2, 8]\n",
    "bedroom = [10, 5, 4, 15]\n",
    "baranda = [7, 2, 2, 4]\n",
    "\n",
    "df = pd.DataFrame()\n",
    "df['flat'] = flat\n",
    "df['kitchen'] = kitchen\n",
    "\n",
    "\n",
    "df"
   ],
   "id": "c0ba52f33e815d6e",
   "outputs": [
    {
     "data": {
      "text/plain": [
       "   flat  kitchen\n",
       "0     1        1\n",
       "1     2        1\n",
       "2     3        2\n",
       "3     4        0"
      ],
      "text/html": [
       "<div>\n",
       "<style scoped>\n",
       "    .dataframe tbody tr th:only-of-type {\n",
       "        vertical-align: middle;\n",
       "    }\n",
       "\n",
       "    .dataframe tbody tr th {\n",
       "        vertical-align: top;\n",
       "    }\n",
       "\n",
       "    .dataframe thead th {\n",
       "        text-align: right;\n",
       "    }\n",
       "</style>\n",
       "<table border=\"1\" class=\"dataframe\">\n",
       "  <thead>\n",
       "    <tr style=\"text-align: right;\">\n",
       "      <th></th>\n",
       "      <th>flat</th>\n",
       "      <th>kitchen</th>\n",
       "    </tr>\n",
       "  </thead>\n",
       "  <tbody>\n",
       "    <tr>\n",
       "      <th>0</th>\n",
       "      <td>1</td>\n",
       "      <td>1</td>\n",
       "    </tr>\n",
       "    <tr>\n",
       "      <th>1</th>\n",
       "      <td>2</td>\n",
       "      <td>1</td>\n",
       "    </tr>\n",
       "    <tr>\n",
       "      <th>2</th>\n",
       "      <td>3</td>\n",
       "      <td>2</td>\n",
       "    </tr>\n",
       "    <tr>\n",
       "      <th>3</th>\n",
       "      <td>4</td>\n",
       "      <td>0</td>\n",
       "    </tr>\n",
       "  </tbody>\n",
       "</table>\n",
       "</div>"
      ]
     },
     "execution_count": 77,
     "metadata": {},
     "output_type": "execute_result"
    }
   ],
   "execution_count": 77
  },
  {
   "metadata": {
    "ExecuteTime": {
     "end_time": "2025-02-05T14:11:15.265619Z",
     "start_time": "2025-02-05T14:11:15.235672Z"
    }
   },
   "cell_type": "code",
   "source": "df",
   "id": "caceefc08b69d1b",
   "outputs": [
    {
     "data": {
      "text/plain": [
       "    a   b   c\n",
       "0  88  72  67\n",
       "1  23  78  62\n",
       "2  55  54  76"
      ],
      "text/html": [
       "<div>\n",
       "<style scoped>\n",
       "    .dataframe tbody tr th:only-of-type {\n",
       "        vertical-align: middle;\n",
       "    }\n",
       "\n",
       "    .dataframe tbody tr th {\n",
       "        vertical-align: top;\n",
       "    }\n",
       "\n",
       "    .dataframe thead th {\n",
       "        text-align: right;\n",
       "    }\n",
       "</style>\n",
       "<table border=\"1\" class=\"dataframe\">\n",
       "  <thead>\n",
       "    <tr style=\"text-align: right;\">\n",
       "      <th></th>\n",
       "      <th>a</th>\n",
       "      <th>b</th>\n",
       "      <th>c</th>\n",
       "    </tr>\n",
       "  </thead>\n",
       "  <tbody>\n",
       "    <tr>\n",
       "      <th>0</th>\n",
       "      <td>88</td>\n",
       "      <td>72</td>\n",
       "      <td>67</td>\n",
       "    </tr>\n",
       "    <tr>\n",
       "      <th>1</th>\n",
       "      <td>23</td>\n",
       "      <td>78</td>\n",
       "      <td>62</td>\n",
       "    </tr>\n",
       "    <tr>\n",
       "      <th>2</th>\n",
       "      <td>55</td>\n",
       "      <td>54</td>\n",
       "      <td>76</td>\n",
       "    </tr>\n",
       "  </tbody>\n",
       "</table>\n",
       "</div>"
      ]
     },
     "execution_count": 67,
     "metadata": {},
     "output_type": "execute_result"
    }
   ],
   "execution_count": 67
  }
 ],
 "metadata": {
  "kernelspec": {
   "display_name": "Python 3",
   "language": "python",
   "name": "python3"
  },
  "language_info": {
   "codemirror_mode": {
    "name": "ipython",
    "version": 2
   },
   "file_extension": ".py",
   "mimetype": "text/x-python",
   "name": "python",
   "nbconvert_exporter": "python",
   "pygments_lexer": "ipython2",
   "version": "2.7.6"
  }
 },
 "nbformat": 4,
 "nbformat_minor": 5
}
