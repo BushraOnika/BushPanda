{
 "cells": [
  {
   "cell_type": "code",
   "id": "initial_id",
   "metadata": {
    "collapsed": true,
    "ExecuteTime": {
     "end_time": "2025-01-29T17:00:24.439026Z",
     "start_time": "2025-01-29T17:00:24.423373Z"
    }
   },
   "source": [
    "from operator import concat\n",
    "\n",
    "import pandas as pd\n",
    "import numpy as np\n",
    "from pandas.core.algorithms import duplicated\n",
    "from pandas.core.interchange.dataframe_protocol import DataFrame"
   ],
   "outputs": [],
   "execution_count": 43
  },
  {
   "metadata": {
    "ExecuteTime": {
     "end_time": "2025-01-29T17:00:24.470950Z",
     "start_time": "2025-01-29T17:00:24.454872Z"
    }
   },
   "cell_type": "code",
   "source": [
    "comp_dic = {\n",
    "    \"name\": [\"Bushra\", \"Not Bushra\"],\n",
    "    \"beauty_score\" : [10, -1]\n",
    "}\n",
    "\n",
    "simple_dic = dict(name=[\"Bushra\", \"Not Bushra\"], beauty_score=[10, -1])\n"
   ],
   "id": "193418514f053f",
   "outputs": [],
   "execution_count": 44
  },
  {
   "metadata": {
    "ExecuteTime": {
     "end_time": "2025-01-29T17:00:24.502360Z",
     "start_time": "2025-01-29T17:00:24.490844Z"
    }
   },
   "cell_type": "code",
   "source": "comp_dic",
   "id": "bf41ebf89c641168",
   "outputs": [
    {
     "data": {
      "text/plain": [
       "{'name': ['Bushra', 'Not Bushra'], 'beauty_score': [10, -1]}"
      ]
     },
     "execution_count": 45,
     "metadata": {},
     "output_type": "execute_result"
    }
   ],
   "execution_count": 45
  },
  {
   "metadata": {
    "ExecuteTime": {
     "end_time": "2025-01-29T17:00:24.672154Z",
     "start_time": "2025-01-29T17:00:24.649126Z"
    }
   },
   "cell_type": "code",
   "source": "simple_dic",
   "id": "2508fc44fb62bba5",
   "outputs": [
    {
     "data": {
      "text/plain": [
       "{'name': ['Bushra', 'Not Bushra'], 'beauty_score': [10, -1]}"
      ]
     },
     "execution_count": 46,
     "metadata": {},
     "output_type": "execute_result"
    }
   ],
   "execution_count": 46
  },
  {
   "metadata": {
    "ExecuteTime": {
     "end_time": "2025-01-29T17:00:24.859001Z",
     "start_time": "2025-01-29T17:00:24.830386Z"
    }
   },
   "cell_type": "code",
   "source": [
    "arr = np.array([25, 26,None])\n",
    "name_arr=np.array([\"Bushra\",\"Bushra\",None])\n",
    "df = pd.DataFrame({\"name\":name_arr,'Age': arr})\n",
    "df"
   ],
   "id": "ba459373b5704765",
   "outputs": [
    {
     "data": {
      "text/plain": [
       "     name   Age\n",
       "0  Bushra    25\n",
       "1  Bushra    26\n",
       "2    None  None"
      ],
      "text/html": [
       "<div>\n",
       "<style scoped>\n",
       "    .dataframe tbody tr th:only-of-type {\n",
       "        vertical-align: middle;\n",
       "    }\n",
       "\n",
       "    .dataframe tbody tr th {\n",
       "        vertical-align: top;\n",
       "    }\n",
       "\n",
       "    .dataframe thead th {\n",
       "        text-align: right;\n",
       "    }\n",
       "</style>\n",
       "<table border=\"1\" class=\"dataframe\">\n",
       "  <thead>\n",
       "    <tr style=\"text-align: right;\">\n",
       "      <th></th>\n",
       "      <th>name</th>\n",
       "      <th>Age</th>\n",
       "    </tr>\n",
       "  </thead>\n",
       "  <tbody>\n",
       "    <tr>\n",
       "      <th>0</th>\n",
       "      <td>Bushra</td>\n",
       "      <td>25</td>\n",
       "    </tr>\n",
       "    <tr>\n",
       "      <th>1</th>\n",
       "      <td>Bushra</td>\n",
       "      <td>26</td>\n",
       "    </tr>\n",
       "    <tr>\n",
       "      <th>2</th>\n",
       "      <td>None</td>\n",
       "      <td>None</td>\n",
       "    </tr>\n",
       "  </tbody>\n",
       "</table>\n",
       "</div>"
      ]
     },
     "execution_count": 47,
     "metadata": {},
     "output_type": "execute_result"
    }
   ],
   "execution_count": 47
  },
  {
   "metadata": {
    "ExecuteTime": {
     "end_time": "2025-01-29T17:00:24.968963Z",
     "start_time": "2025-01-29T17:00:24.946666Z"
    }
   },
   "cell_type": "code",
   "source": "df.iloc[0]",
   "id": "253b26c37757d257",
   "outputs": [
    {
     "data": {
      "text/plain": [
       "name    Bushra\n",
       "Age         25\n",
       "Name: 0, dtype: object"
      ]
     },
     "execution_count": 48,
     "metadata": {},
     "output_type": "execute_result"
    }
   ],
   "execution_count": 48
  },
  {
   "metadata": {
    "ExecuteTime": {
     "end_time": "2025-01-29T17:00:25.155544Z",
     "start_time": "2025-01-29T17:00:25.142764Z"
    }
   },
   "cell_type": "code",
   "source": "df.loc[0]",
   "id": "a2a1cdb945abf192",
   "outputs": [
    {
     "data": {
      "text/plain": [
       "name    Bushra\n",
       "Age         25\n",
       "Name: 0, dtype: object"
      ]
     },
     "execution_count": 49,
     "metadata": {},
     "output_type": "execute_result"
    }
   ],
   "execution_count": 49
  },
  {
   "metadata": {
    "ExecuteTime": {
     "end_time": "2025-01-29T17:00:25.359416Z",
     "start_time": "2025-01-29T17:00:25.346081Z"
    }
   },
   "cell_type": "code",
   "source": "df.head()",
   "id": "cb69615c2cb1a265",
   "outputs": [
    {
     "data": {
      "text/plain": [
       "     name   Age\n",
       "0  Bushra    25\n",
       "1  Bushra    26\n",
       "2    None  None"
      ],
      "text/html": [
       "<div>\n",
       "<style scoped>\n",
       "    .dataframe tbody tr th:only-of-type {\n",
       "        vertical-align: middle;\n",
       "    }\n",
       "\n",
       "    .dataframe tbody tr th {\n",
       "        vertical-align: top;\n",
       "    }\n",
       "\n",
       "    .dataframe thead th {\n",
       "        text-align: right;\n",
       "    }\n",
       "</style>\n",
       "<table border=\"1\" class=\"dataframe\">\n",
       "  <thead>\n",
       "    <tr style=\"text-align: right;\">\n",
       "      <th></th>\n",
       "      <th>name</th>\n",
       "      <th>Age</th>\n",
       "    </tr>\n",
       "  </thead>\n",
       "  <tbody>\n",
       "    <tr>\n",
       "      <th>0</th>\n",
       "      <td>Bushra</td>\n",
       "      <td>25</td>\n",
       "    </tr>\n",
       "    <tr>\n",
       "      <th>1</th>\n",
       "      <td>Bushra</td>\n",
       "      <td>26</td>\n",
       "    </tr>\n",
       "    <tr>\n",
       "      <th>2</th>\n",
       "      <td>None</td>\n",
       "      <td>None</td>\n",
       "    </tr>\n",
       "  </tbody>\n",
       "</table>\n",
       "</div>"
      ]
     },
     "execution_count": 50,
     "metadata": {},
     "output_type": "execute_result"
    }
   ],
   "execution_count": 50
  },
  {
   "metadata": {
    "ExecuteTime": {
     "end_time": "2025-01-29T17:00:25.642415Z",
     "start_time": "2025-01-29T17:00:25.614997Z"
    }
   },
   "cell_type": "code",
   "source": "df.dropna()",
   "id": "7f60fe469a43e228",
   "outputs": [
    {
     "data": {
      "text/plain": [
       "     name Age\n",
       "0  Bushra  25\n",
       "1  Bushra  26"
      ],
      "text/html": [
       "<div>\n",
       "<style scoped>\n",
       "    .dataframe tbody tr th:only-of-type {\n",
       "        vertical-align: middle;\n",
       "    }\n",
       "\n",
       "    .dataframe tbody tr th {\n",
       "        vertical-align: top;\n",
       "    }\n",
       "\n",
       "    .dataframe thead th {\n",
       "        text-align: right;\n",
       "    }\n",
       "</style>\n",
       "<table border=\"1\" class=\"dataframe\">\n",
       "  <thead>\n",
       "    <tr style=\"text-align: right;\">\n",
       "      <th></th>\n",
       "      <th>name</th>\n",
       "      <th>Age</th>\n",
       "    </tr>\n",
       "  </thead>\n",
       "  <tbody>\n",
       "    <tr>\n",
       "      <th>0</th>\n",
       "      <td>Bushra</td>\n",
       "      <td>25</td>\n",
       "    </tr>\n",
       "    <tr>\n",
       "      <th>1</th>\n",
       "      <td>Bushra</td>\n",
       "      <td>26</td>\n",
       "    </tr>\n",
       "  </tbody>\n",
       "</table>\n",
       "</div>"
      ]
     },
     "execution_count": 51,
     "metadata": {},
     "output_type": "execute_result"
    }
   ],
   "execution_count": 51
  },
  {
   "metadata": {
    "ExecuteTime": {
     "end_time": "2025-01-29T17:00:25.891594Z",
     "start_time": "2025-01-29T17:00:25.862587Z"
    }
   },
   "cell_type": "code",
   "source": [
    "df.loc[0,'Age']=26\n",
    "df.drop_duplicates()"
   ],
   "id": "b6965b64aafd864",
   "outputs": [
    {
     "data": {
      "text/plain": [
       "     name   Age\n",
       "0  Bushra    26\n",
       "2    None  None"
      ],
      "text/html": [
       "<div>\n",
       "<style scoped>\n",
       "    .dataframe tbody tr th:only-of-type {\n",
       "        vertical-align: middle;\n",
       "    }\n",
       "\n",
       "    .dataframe tbody tr th {\n",
       "        vertical-align: top;\n",
       "    }\n",
       "\n",
       "    .dataframe thead th {\n",
       "        text-align: right;\n",
       "    }\n",
       "</style>\n",
       "<table border=\"1\" class=\"dataframe\">\n",
       "  <thead>\n",
       "    <tr style=\"text-align: right;\">\n",
       "      <th></th>\n",
       "      <th>name</th>\n",
       "      <th>Age</th>\n",
       "    </tr>\n",
       "  </thead>\n",
       "  <tbody>\n",
       "    <tr>\n",
       "      <th>0</th>\n",
       "      <td>Bushra</td>\n",
       "      <td>26</td>\n",
       "    </tr>\n",
       "    <tr>\n",
       "      <th>2</th>\n",
       "      <td>None</td>\n",
       "      <td>None</td>\n",
       "    </tr>\n",
       "  </tbody>\n",
       "</table>\n",
       "</div>"
      ]
     },
     "execution_count": 52,
     "metadata": {},
     "output_type": "execute_result"
    }
   ],
   "execution_count": 52
  },
  {
   "metadata": {
    "ExecuteTime": {
     "end_time": "2025-01-29T17:00:26.143119Z",
     "start_time": "2025-01-29T17:00:26.131449Z"
    }
   },
   "cell_type": "code",
   "source": "df.duplicated()",
   "id": "788a545e8b5b6ee1",
   "outputs": [
    {
     "data": {
      "text/plain": [
       "0    False\n",
       "1     True\n",
       "2    False\n",
       "dtype: bool"
      ]
     },
     "execution_count": 53,
     "metadata": {},
     "output_type": "execute_result"
    }
   ],
   "execution_count": 53
  },
  {
   "metadata": {
    "ExecuteTime": {
     "end_time": "2025-01-29T17:08:24.630352Z",
     "start_time": "2025-01-29T17:08:24.303642Z"
    }
   },
   "cell_type": "code",
   "source": "import matplotlib",
   "id": "99710f75e0445810",
   "outputs": [],
   "execution_count": 59
  },
  {
   "metadata": {
    "ExecuteTime": {
     "end_time": "2025-01-29T17:12:22.747271Z",
     "start_time": "2025-01-29T17:12:22.585232Z"
    }
   },
   "cell_type": "code",
   "source": [
    "df2=df['Age']\n",
    "df['Age'].plot(kind='hist')"
   ],
   "id": "43447ba6a005b947",
   "outputs": [
    {
     "data": {
      "text/plain": [
       "<Axes: ylabel='Frequency'>"
      ]
     },
     "execution_count": 62,
     "metadata": {},
     "output_type": "execute_result"
    },
    {
     "data": {
      "text/plain": [
       "<Figure size 640x480 with 1 Axes>"
      ],
      "image/png": "[encoded data removed]"
     },
     "metadata": {},
     "output_type": "display_data"
    }
   ],
   "execution_count": 62
  },
  {
   "metadata": {
    "ExecuteTime": {
     "end_time": "2025-01-29T17:35:55.633381Z",
     "start_time": "2025-01-29T17:35:55.620618Z"
    }
   },
   "cell_type": "code",
   "source": [
    "arr=np.array([1,2,3])\n",
    "arr2=np.array([2,3,4])\n",
    "arr3=np.array([5,6,7])\n",
    "arr_com=[arr,arr2,arr3]\n",
    "pd.DataFrame(arr_com,index=[\"a\",'b','c'],columns=['A','B','C'])"
   ],
   "id": "1270c69e8cb1998f",
   "outputs": [
    {
     "data": {
      "text/plain": [
       "   A  B  C\n",
       "a  1  2  3\n",
       "b  2  3  4\n",
       "c  5  6  7"
      ],
      "text/html": [
       "<div>\n",
       "<style scoped>\n",
       "    .dataframe tbody tr th:only-of-type {\n",
       "        vertical-align: middle;\n",
       "    }\n",
       "\n",
       "    .dataframe tbody tr th {\n",
       "        vertical-align: top;\n",
       "    }\n",
       "\n",
       "    .dataframe thead th {\n",
       "        text-align: right;\n",
       "    }\n",
       "</style>\n",
       "<table border=\"1\" class=\"dataframe\">\n",
       "  <thead>\n",
       "    <tr style=\"text-align: right;\">\n",
       "      <th></th>\n",
       "      <th>A</th>\n",
       "      <th>B</th>\n",
       "      <th>C</th>\n",
       "    </tr>\n",
       "  </thead>\n",
       "  <tbody>\n",
       "    <tr>\n",
       "      <th>a</th>\n",
       "      <td>1</td>\n",
       "      <td>2</td>\n",
       "      <td>3</td>\n",
       "    </tr>\n",
       "    <tr>\n",
       "      <th>b</th>\n",
       "      <td>2</td>\n",
       "      <td>3</td>\n",
       "      <td>4</td>\n",
       "    </tr>\n",
       "    <tr>\n",
       "      <th>c</th>\n",
       "      <td>5</td>\n",
       "      <td>6</td>\n",
       "      <td>7</td>\n",
       "    </tr>\n",
       "  </tbody>\n",
       "</table>\n",
       "</div>"
      ]
     },
     "execution_count": 65,
     "metadata": {},
     "output_type": "execute_result"
    }
   ],
   "execution_count": 65
  }
 ],
 "metadata": {
  "kernelspec": {
   "display_name": "Python 3",
   "language": "python",
   "name": "python3"
  },
  "language_info": {
   "codemirror_mode": {
    "name": "ipython",
    "version": 2
   },
   "file_extension": ".py",
   "mimetype": "text/x-python",
   "name": "python",
   "nbconvert_exporter": "python",
   "pygments_lexer": "ipython2",
   "version": "2.7.6"
  }
 },
 "nbformat": 4,
 "nbformat_minor": 5
}
